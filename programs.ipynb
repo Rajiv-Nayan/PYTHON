{
 "cells": [
  {
   "cell_type": "code",
   "execution_count": 1,
   "metadata": {},
   "outputs": [
    {
     "data": {
      "text/plain": [
       "False"
      ]
     },
     "execution_count": 1,
     "metadata": {},
     "output_type": "execute_result"
    }
   ],
   "source": [
    "(5>4)and(3==5)"
   ]
  },
  {
   "cell_type": "code",
   "execution_count": 25,
   "metadata": {},
   "outputs": [
    {
     "data": {
      "text/plain": [
       "False"
      ]
     },
     "execution_count": 25,
     "metadata": {},
     "output_type": "execute_result"
    }
   ],
   "source": [
    "not(5>4)"
   ]
  },
  {
   "cell_type": "code",
   "execution_count": 4,
   "metadata": {},
   "outputs": [
    {
     "name": "stdout",
     "output_type": "stream",
     "text": [
      "enter first number: 4\n",
      "enter second number: 2\n",
      "x =  4\n",
      "y =  2\n",
      "x is greatest\n"
     ]
    }
   ],
   "source": [
    "x=int(input('enter first number: '))\n",
    "y=int(input('enter second number: '))\n",
    "print('x = ',x)\n",
    "print('y = ',y)\n",
    "if x > y:\n",
    "    print('x is greatest')\n",
    "else:\n",
    "    print('y is greatest')"
   ]
  },
  {
   "cell_type": "code",
   "execution_count": 6,
   "metadata": {},
   "outputs": [
    {
     "name": "stdout",
     "output_type": "stream",
     "text": [
      "enter first number: 2\n",
      "enter second number: 7\n",
      "enter third number: 4\n",
      "x =  2\n",
      "y =  7\n",
      "z =  4\n",
      "y is greater\n"
     ]
    }
   ],
   "source": [
    "x=int(input('enter first number: '))\n",
    "y=int(input('enter second number: '))\n",
    "z=int(input('enter third number: '))\n",
    "print('x = ',x)\n",
    "print('y = ',y)\n",
    "print('z = ',z)\n",
    "if x > y or x > z:\n",
    "    print('x is greater')\n",
    "elif y >x or y >z:\n",
    "    print('y is greater')\n",
    "else:\n",
    "    print('z is greater')"
   ]
  },
  {
   "cell_type": "code",
   "execution_count": 10,
   "metadata": {},
   "outputs": [
    {
     "name": "stdout",
     "output_type": "stream",
     "text": [
      "enter a number: 1\n",
      "no. is positive\n"
     ]
    }
   ],
   "source": [
    "x=int(input('enter a number: '))\n",
    "if x > 0:\n",
    "    print('no. is positive')\n",
    "elif x < 0:\n",
    "    print('no. is negative')\n",
    "else:\n",
    "    print(\"It's zero\")"
   ]
  },
  {
   "cell_type": "code",
   "execution_count": 16,
   "metadata": {},
   "outputs": [
    {
     "name": "stdout",
     "output_type": "stream",
     "text": [
      "enter a number: 4\n",
      "no. is not divisible\n"
     ]
    }
   ],
   "source": [
    "x=int(input('enter a number: '))\n",
    "if x % 5 == 0 or x % 11 == 0:\n",
    "    print('given no. is divisible by 5 and 11')\n",
    "else:\n",
    "    print('no. is not divisible')"
   ]
  },
  {
   "cell_type": "code",
   "execution_count": 18,
   "metadata": {},
   "outputs": [
    {
     "name": "stdout",
     "output_type": "stream",
     "text": [
      "enter number:4\n",
      "no is even\n"
     ]
    }
   ],
   "source": [
    "x=int(input(\"enter number:\"))\n",
    "\n",
    "if x % 2 ==0:\n",
    "    print(\"no is even\")\n",
    "else:\n",
    "    print(\"no is odd\")"
   ]
  },
  {
   "cell_type": "code",
   "execution_count": 12,
   "metadata": {},
   "outputs": [
    {
     "name": "stdout",
     "output_type": "stream",
     "text": [
      "Enter year : 2000\n",
      "2000 is a leap year\n"
     ]
    }
   ],
   "source": [
    "year= int(input('Enter year : '))\n",
    "if (year % 4) == 0:\n",
    "    if (year % 100) == 0: \n",
    "        if (year % 400) == 0:\n",
    "            print(f'{year} is a leap year')    \n",
    "            \n",
    "        else:\n",
    "            print(f'{year} is not a leap year')\n",
    "    else:\n",
    "        print(f'{year} is a leap year')\n",
    "else:\n",
    "    print(f'{year} not a leap year')"
   ]
  },
  {
   "cell_type": "code",
   "execution_count": 61,
   "metadata": {},
   "outputs": [
    {
     "name": "stdout",
     "output_type": "stream",
     "text": [
      "Enter a character:             g\n",
      "g is an Alphabet\n"
     ]
    }
   ],
   "source": [
    "x = (input(\"Enter a character: \").strip())\n",
    "if(x>='a' and x<= 'z') or (x>='A' and x<='Z'):\n",
    "    print(x, \"is an Alphabet\")\n",
    "else:\n",
    "    print(x, \"is not an Alphabet\")"
   ]
  },
  {
   "cell_type": "code",
   "execution_count": 36,
   "metadata": {},
   "outputs": [
    {
     "name": "stdout",
     "output_type": "stream",
     "text": [
      "['__add__', '__class__', '__contains__', '__delattr__', '__dir__', '__doc__', '__eq__', '__format__', '__ge__', '__getattribute__', '__getitem__', '__getnewargs__', '__gt__', '__hash__', '__init__', '__init_subclass__', '__iter__', '__le__', '__len__', '__lt__', '__mod__', '__mul__', '__ne__', '__new__', '__reduce__', '__reduce_ex__', '__repr__', '__rmod__', '__rmul__', '__setattr__', '__sizeof__', '__str__', '__subclasshook__', 'capitalize', 'casefold', 'center', 'count', 'encode', 'endswith', 'expandtabs', 'find', 'format', 'format_map', 'index', 'isalnum', 'isalpha', 'isascii', 'isdecimal', 'isdigit', 'isidentifier', 'islower', 'isnumeric', 'isprintable', 'isspace', 'istitle', 'isupper', 'join', 'ljust', 'lower', 'lstrip', 'maketrans', 'partition', 'replace', 'rfind', 'rindex', 'rjust', 'rpartition', 'rsplit', 'rstrip', 'split', 'splitlines', 'startswith', 'strip', 'swapcase', 'title', 'translate', 'upper', 'zfill']\n"
     ]
    }
   ],
   "source": [
    "print(dir(char))"
   ]
  },
  {
   "cell_type": "code",
   "execution_count": 59,
   "metadata": {},
   "outputs": [
    {
     "name": "stdout",
     "output_type": "stream",
     "text": [
      "Enter a character:  I\n",
      "i is vowels\n"
     ]
    }
   ],
   "source": [
    "x = (input(\"Enter a character: \").lower().strip())\n",
    "if x in ['a','e','i','o','u']:\n",
    "    print(x,'is vowels')\n",
    "else:\n",
    "    print(x,'is consonants')"
   ]
  },
  {
   "cell_type": "code",
   "execution_count": 80,
   "metadata": {},
   "outputs": [
    {
     "name": "stdout",
     "output_type": "stream",
     "text": [
      "Enter a character: ~\n",
      "~ is a special character\n"
     ]
    }
   ],
   "source": [
    "x = (input(\"Enter a character: \").strip())\n",
    "if x.isalpha():\n",
    "     print(x, \"is an Alphabet\")\n",
    "elif x.isdigit():\n",
    "     print(x, \"is a number\")\n",
    "else:\n",
    "     print(x, \"is a special character\")"
   ]
  },
  {
   "cell_type": "code",
   "execution_count": 82,
   "metadata": {},
   "outputs": [
    {
     "name": "stdout",
     "output_type": "stream",
     "text": [
      "Enter a character: a\n",
      "a is in lowercase\n"
     ]
    }
   ],
   "source": [
    "x = (input(\"Enter a character: \").strip())\n",
    "if x.isupper():\n",
    "    print(x,'is in uppercase')\n",
    "else:\n",
    "    print(x,'is in lowercase')"
   ]
  },
  {
   "cell_type": "code",
   "execution_count": 92,
   "metadata": {},
   "outputs": [
    {
     "name": "stdout",
     "output_type": "stream",
     "text": [
      "Enter a character: 9\n",
      "wrong input\n"
     ]
    }
   ],
   "source": [
    "x = (int(input(\"Enter a character: \").strip()))\n",
    "if x ==1:\n",
    "    print('Monday')\n",
    "elif x == 2:\n",
    "    print('tuesday')\n",
    "elif x == 3:\n",
    "    print('Wednesday')\n",
    "elif x == 4:\n",
    "    print('thrusday')\n",
    "elif x == 5:\n",
    "    print('friday')\n",
    "elif x == 6:\n",
    "    print('saturday')    \n",
    "elif x == 7:\n",
    "    print('sunday')\n",
    "else:\n",
    "    print('wrong input')"
   ]
  },
  {
   "cell_type": "code",
   "execution_count": 96,
   "metadata": {},
   "outputs": [
    {
     "name": "stdout",
     "output_type": "stream",
     "text": [
      "Enter a character: 2\n",
      "there are total 28/29 days\n"
     ]
    }
   ],
   "source": [
    "x = (int(input(\"Enter a character: \").strip()))\n",
    "if x in (1,3,5,7,9,11):\n",
    "    print('there are total 31 days')\n",
    "elif x == 2:\n",
    "    print('there are total 28/29 days')\n",
    "elif x in (4,6,8,10,12):\n",
    "    print('there are total 30 days')\n",
    "else:\n",
    "    print('wrong input')"
   ]
  },
  {
   "cell_type": "code",
   "execution_count": 7,
   "metadata": {},
   "outputs": [
    {
     "name": "stdout",
     "output_type": "stream",
     "text": [
      "x : 21\n",
      "y : 23\n",
      "z : 4\n",
      "triangle is invalid\n"
     ]
    }
   ],
   "source": [
    "x = (int(input(\"x : \").strip()))\n",
    "y = (int(input(\"y : \").strip()))\n",
    "z = (int(input(\"z : \").strip()))\n",
    "if (x+y+z) == 180:\n",
    "    print('triangle is valid')\n",
    "else:\n",
    "    print('triangle is invalid')"
   ]
  },
  {
   "cell_type": "code",
   "execution_count": 17,
   "metadata": {},
   "outputs": [
    {
     "name": "stdout",
     "output_type": "stream",
     "text": [
      "x : 1\n",
      "y : 2\n",
      "z : 3\n",
      "it is scalene triangle\n"
     ]
    }
   ],
   "source": [
    "x = (int(input(\"x : \").strip()))\n",
    "y = (int(input(\"y : \").strip()))\n",
    "z = (int(input(\"z : \").strip()))\n",
    "if x == y == z:\n",
    "    print('it is equilateral traingle')\n",
    "elif x == y or y==z or x==z:\n",
    "    print('it is a isoceles traingle ')   \n",
    "else:\n",
    "    print('it is scalene triangle')"
   ]
  },
  {
   "cell_type": "code",
   "execution_count": 23,
   "metadata": {},
   "outputs": [
    {
     "name": "stdout",
     "output_type": "stream",
     "text": [
      "x : 2\n",
      "y : 3\n",
      "z : 4\n",
      "triangle is valid\n"
     ]
    }
   ],
   "source": [
    "x = (int(input(\"x : \").strip()))\n",
    "y = (int(input(\"y : \").strip()))\n",
    "z = (int(input(\"z : \").strip()))\n",
    "if (x+y)>z:\n",
    "    if(y+z)>x:\n",
    "        if(z+x)>y:\n",
    "            print('triangle is valid')\n",
    "        else:\n",
    "            print('not valid')\n",
    "    else:\n",
    "        print('not valid')\n",
    "else:\n",
    "    print('not valid')"
   ]
  },
  {
   "cell_type": "code",
   "execution_count": 6,
   "metadata": {},
   "outputs": [
    {
     "name": "stdout",
     "output_type": "stream",
     "text": [
      "CP : 1200\n",
      "SP : 1200\n",
      "no profit no loss\n"
     ]
    }
   ],
   "source": [
    "CP = (int(input(\"CP : \").strip()))\n",
    "SP = (int(input(\"SP : \").strip()))\n",
    "if CP < SP:\n",
    "    print('profit of : ', SP-CP)\n",
    "elif CP > SP:\n",
    "    print('loss of : ',CP-SP)\n",
    "else:\n",
    "    print('no profit no loss')"
   ]
  },
  {
   "cell_type": "code",
   "execution_count": 8,
   "metadata": {},
   "outputs": [
    {
     "name": "stdout",
     "output_type": "stream",
     "text": [
      "enter year : 2016\n",
      "leap year\n"
     ]
    }
   ],
   "source": [
    "# leap year \n",
    "\n",
    "year=int(input('enter year : '))\n",
    "if year%4:\n",
    "    print('not a leap year')\n",
    "else:\n",
    "    if year%100:\n",
    "        print('leap year')\n",
    "    else:\n",
    "        if year%400:\n",
    "            print('not a leap year')\n",
    "        else:\n",
    "            print('leap year')"
   ]
  },
  {
   "cell_type": "code",
   "execution_count": 14,
   "metadata": {},
   "outputs": [
    {
     "name": "stdout",
     "output_type": "stream",
     "text": [
      "enter year : 2016\n",
      "2016 is a leap year\n"
     ]
    }
   ],
   "source": [
    "# leap year\n",
    "year=int(input('enter year : '))\n",
    "\n",
    "if year %4 ==0 and (year % 100 !=0 or year % 400 == 0):\n",
    "    print(f'{year} is a leap year')\n",
    "else:\n",
    "    print(f'{year} is not a leap year')"
   ]
  },
  {
   "cell_type": "code",
   "execution_count": null,
   "metadata": {},
   "outputs": [],
   "source": []
  }
 ],
 "metadata": {
  "kernelspec": {
   "display_name": "Python 3",
   "language": "python",
   "name": "python3"
  },
  "language_info": {
   "codemirror_mode": {
    "name": "ipython",
    "version": 3
   },
   "file_extension": ".py",
   "mimetype": "text/x-python",
   "name": "python",
   "nbconvert_exporter": "python",
   "pygments_lexer": "ipython3",
   "version": "3.7.3"
  }
 },
 "nbformat": 4,
 "nbformat_minor": 2
}
